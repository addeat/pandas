{
 "cells": [
  {
   "cell_type": "code",
   "execution_count": 1,
   "id": "13c90aa4",
   "metadata": {},
   "outputs": [],
   "source": [
    "import numpy as np\n",
    "import pandas as pd"
   ]
  },
  {
   "cell_type": "code",
   "execution_count": 2,
   "id": "e08de574",
   "metadata": {},
   "outputs": [
    {
     "name": "stdout",
     "output_type": "stream",
     "text": [
      "[[0 3 2]\n",
      " [2 1 9]\n",
      " [5 4 0]]\n",
      "\n",
      "[[0 1 2]\n",
      " [1 0 0]\n",
      " [2 2 1]]\n",
      "\n",
      "[[0 2 1]\n",
      " [1 0 2]\n",
      " [2 1 0]]\n"
     ]
    }
   ],
   "source": [
    "a_2d = np.array([[0,3,2],\n",
    "                 [2,1,9],\n",
    "                 [5,4,0]])\n",
    "print(a_2d)\n",
    "print()\n",
    "a_2d_col = np.argsort(a_2d, axis=0)  # 배열 a_2를 기준으로 열 단위로 정렬했을 때 index를 반환.\n",
    "                                                                 # ex) 두번째 열은 [3,1,4]이며 이를 정렬하면 [1,3,4]임. 그리고 이때 index는 [1,0,2]\n",
    "print(a_2d_col)\n",
    "print()\n",
    "a_2d_row = np.argsort(a_2d, axis=1) # 배열 a_2를 기준으로 행 단위로 정렬했을 때 index를 반환.\n",
    "                                                                # ex) 세번째 행은 [5,4,0]이며 이를 정렬하면 [0,4,5]임. 그리고 이때 index는 [2,1,0]\n",
    "print(a_2d_row)"
   ]
  },
  {
   "cell_type": "code",
   "execution_count": 3,
   "id": "abf47212",
   "metadata": {},
   "outputs": [],
   "source": [
    "a = np.array([6,3,9,1,2,0])\n",
    "a_sort = np.argsort(a)"
   ]
  },
  {
   "cell_type": "code",
   "execution_count": 4,
   "id": "4c6c17fe",
   "metadata": {},
   "outputs": [
    {
     "data": {
      "text/plain": [
       "array([5, 3, 4, 1, 0, 2], dtype=int64)"
      ]
     },
     "execution_count": 4,
     "metadata": {},
     "output_type": "execute_result"
    }
   ],
   "source": [
    "a_sort   435120    "
   ]
  },
  {
   "cell_type": "code",
   "execution_count": null,
   "id": "5ccbacfc",
   "metadata": {},
   "outputs": [],
   "source": []
  }
 ],
 "metadata": {
  "kernelspec": {
   "display_name": "Python 3 (ipykernel)",
   "language": "python",
   "name": "python3"
  },
  "language_info": {
   "codemirror_mode": {
    "name": "ipython",
    "version": 3
   },
   "file_extension": ".py",
   "mimetype": "text/x-python",
   "name": "python",
   "nbconvert_exporter": "python",
   "pygments_lexer": "ipython3",
   "version": "3.9.13"
  }
 },
 "nbformat": 4,
 "nbformat_minor": 5
}
