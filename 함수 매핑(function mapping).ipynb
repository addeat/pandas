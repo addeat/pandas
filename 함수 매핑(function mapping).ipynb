{
 "cells": [
  {
   "cell_type": "code",
   "execution_count": 1,
   "id": "1e6d3b4a",
   "metadata": {},
   "outputs": [],
   "source": [
    "import seaborn as sns"
   ]
  },
  {
   "cell_type": "code",
   "execution_count": 2,
   "id": "f21bc3e0",
   "metadata": {},
   "outputs": [
    {
     "name": "stdout",
     "output_type": "stream",
     "text": [
      "    age     fare\n",
      "0  22.0   7.2500\n",
      "1  38.0  71.2833\n",
      "2  26.0   7.9250\n",
      "3  35.0  53.1000\n",
      "4  35.0   8.0500\n",
      "\n"
     ]
    }
   ],
   "source": [
    "titanic = sns.load_dataset('titanic')\n",
    "df = titanic.loc[:, ['age', 'fare']]\n",
    "\n",
    "print(df.head())\n",
    "print()"
   ]
  },
  {
   "cell_type": "code",
   "execution_count": 3,
   "id": "0beab874",
   "metadata": {},
   "outputs": [
    {
     "name": "stdout",
     "output_type": "stream",
     "text": [
      "    age     fare  ten\n",
      "0  22.0   7.2500   10\n",
      "1  38.0  71.2833   10\n",
      "2  26.0   7.9250   10\n",
      "3  35.0  53.1000   10\n",
      "4  35.0   8.0500   10\n"
     ]
    }
   ],
   "source": [
    "df['ten'] = 10\n",
    "print(df.head())"
   ]
  },
  {
   "cell_type": "code",
   "execution_count": 6,
   "id": "660f9f95",
   "metadata": {},
   "outputs": [],
   "source": [
    "def add_two_obj(a,b):\n",
    "    return a + b\n",
    "\n",
    "df['add'] = df.apply(lambda df: add_two_obj(df['age'], df['ten']), axis = 1)"
   ]
  },
  {
   "cell_type": "code",
   "execution_count": 7,
   "id": "fc7cf2e2",
   "metadata": {},
   "outputs": [
    {
     "data": {
      "text/html": [
       "<div>\n",
       "<style scoped>\n",
       "    .dataframe tbody tr th:only-of-type {\n",
       "        vertical-align: middle;\n",
       "    }\n",
       "\n",
       "    .dataframe tbody tr th {\n",
       "        vertical-align: top;\n",
       "    }\n",
       "\n",
       "    .dataframe thead th {\n",
       "        text-align: right;\n",
       "    }\n",
       "</style>\n",
       "<table border=\"1\" class=\"dataframe\">\n",
       "  <thead>\n",
       "    <tr style=\"text-align: right;\">\n",
       "      <th></th>\n",
       "      <th>age</th>\n",
       "      <th>fare</th>\n",
       "      <th>ten</th>\n",
       "      <th>add</th>\n",
       "    </tr>\n",
       "  </thead>\n",
       "  <tbody>\n",
       "    <tr>\n",
       "      <th>0</th>\n",
       "      <td>22.0</td>\n",
       "      <td>7.2500</td>\n",
       "      <td>10</td>\n",
       "      <td>32.0</td>\n",
       "    </tr>\n",
       "    <tr>\n",
       "      <th>1</th>\n",
       "      <td>38.0</td>\n",
       "      <td>71.2833</td>\n",
       "      <td>10</td>\n",
       "      <td>48.0</td>\n",
       "    </tr>\n",
       "    <tr>\n",
       "      <th>2</th>\n",
       "      <td>26.0</td>\n",
       "      <td>7.9250</td>\n",
       "      <td>10</td>\n",
       "      <td>36.0</td>\n",
       "    </tr>\n",
       "    <tr>\n",
       "      <th>3</th>\n",
       "      <td>35.0</td>\n",
       "      <td>53.1000</td>\n",
       "      <td>10</td>\n",
       "      <td>45.0</td>\n",
       "    </tr>\n",
       "    <tr>\n",
       "      <th>4</th>\n",
       "      <td>35.0</td>\n",
       "      <td>8.0500</td>\n",
       "      <td>10</td>\n",
       "      <td>45.0</td>\n",
       "    </tr>\n",
       "  </tbody>\n",
       "</table>\n",
       "</div>"
      ],
      "text/plain": [
       "    age     fare  ten   add\n",
       "0  22.0   7.2500   10  32.0\n",
       "1  38.0  71.2833   10  48.0\n",
       "2  26.0   7.9250   10  36.0\n",
       "3  35.0  53.1000   10  45.0\n",
       "4  35.0   8.0500   10  45.0"
      ]
     },
     "execution_count": 7,
     "metadata": {},
     "output_type": "execute_result"
    }
   ],
   "source": [
    "df.head()"
   ]
  },
  {
   "cell_type": "code",
   "execution_count": 17,
   "id": "016161a1",
   "metadata": {},
   "outputs": [],
   "source": [
    "def missing_value(x):\n",
    "    return x.isnull()\n",
    "def missing_count(x):\n",
    "    return missing_value(x).sum()\n",
    "def total_number_missing(x):\n",
    "    return missing_count(x).sum()"
   ]
  },
  {
   "cell_type": "code",
   "execution_count": 18,
   "id": "e864411f",
   "metadata": {},
   "outputs": [
    {
     "name": "stdout",
     "output_type": "stream",
     "text": [
      "     age   fare    ten    add\n",
      "0  False  False  False  False\n",
      "1  False  False  False  False\n",
      "2  False  False  False  False\n",
      "3  False  False  False  False\n",
      "4  False  False  False  False\n"
     ]
    }
   ],
   "source": [
    "result_df = df.pipe(missing_value)\n",
    "print(result_df.head())"
   ]
  },
  {
   "cell_type": "code",
   "execution_count": 26,
   "id": "657ecd7e",
   "metadata": {},
   "outputs": [
    {
     "name": "stdout",
     "output_type": "stream",
     "text": [
      "age     177\n",
      "fare      0\n",
      "ten       0\n",
      "add     177\n",
      "dtype: int64\n",
      "\n",
      "354\n"
     ]
    }
   ],
   "source": [
    "result_series = df.pipe(missing_count)\n",
    "print(result_series)\n",
    "print()\n",
    "\n",
    "result_value = df.pipe(total_number_missing)\n",
    "print(result_value)"
   ]
  },
  {
   "cell_type": "code",
   "execution_count": null,
   "id": "2ab47109",
   "metadata": {},
   "outputs": [],
   "source": [
    "df.isnull().sum().sum()"
   ]
  }
 ],
 "metadata": {
  "kernelspec": {
   "display_name": "Python 3 (ipykernel)",
   "language": "python",
   "name": "python3"
  },
  "language_info": {
   "codemirror_mode": {
    "name": "ipython",
    "version": 3
   },
   "file_extension": ".py",
   "mimetype": "text/x-python",
   "name": "python",
   "nbconvert_exporter": "python",
   "pygments_lexer": "ipython3",
   "version": "3.9.13"
  }
 },
 "nbformat": 4,
 "nbformat_minor": 5
}
